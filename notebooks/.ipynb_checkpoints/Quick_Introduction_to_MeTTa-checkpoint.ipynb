{
 "cells": [
  {
   "cell_type": "markdown",
   "metadata": {},
   "source": [
    "# Metta Programming Language Examples"
   ]
  },
  {
   "cell_type": "markdown",
   "metadata": {},
   "source": [
    "## Basic Examples"
   ]
  },
  {
   "cell_type": "code",
   "execution_count": 4,
   "metadata": {},
   "outputs": [
    {
     "name": "stdout",
     "output_type": "stream",
     "text": []
    }
   ],
   "source": [
    "!(+ 1 (superpose (1 2 3)))"
   ]
  },
  {
   "cell_type": "code",
   "execution_count": 5,
   "metadata": {},
   "outputs": [
    {
     "name": "stdout",
     "output_type": "stream",
     "text": []
    }
   ],
   "source": [
    "!(+ 1 (superpose (1 (superpose (2 3)))))"
   ]
  },
  {
   "cell_type": "code",
   "execution_count": 6,
   "metadata": {},
   "outputs": [
    {
     "name": "stdout",
     "output_type": "stream",
     "text": []
    }
   ],
   "source": [
    "!((superpose (1 2 3)))"
   ]
  },
  {
   "cell_type": "code",
   "execution_count": 7,
   "metadata": {},
   "outputs": [
    {
     "name": "stdout",
     "output_type": "stream",
     "text": []
    }
   ],
   "source": [
    "!((superpose (1 (superpose ((+ 1 1) 3)))))"
   ]
  },
  {
   "cell_type": "markdown",
   "metadata": {},
   "source": [
    "## Case Statements"
   ]
  },
  {
   "cell_type": "code",
   "execution_count": 8,
   "metadata": {},
   "outputs": [
    {
     "name": "stdout",
     "output_type": "stream",
     "text": []
    }
   ],
   "source": [
    "!(case (+ 1 5) ((5 Error) (6 OK) (6 Error)))"
   ]
  },
  {
   "cell_type": "code",
   "execution_count": 9,
   "metadata": {},
   "outputs": [
    {
     "name": "stdout",
     "output_type": "stream",
     "text": []
    }
   ],
   "source": [
    "!(case (+ 1 5) (($x (+ 1 $x))))"
   ]
  },
  {
   "cell_type": "markdown",
   "metadata": {},
   "source": [
    "## Non-determinism in Matching and Interpretation"
   ]
  },
  {
   "cell_type": "code",
   "execution_count": 13,
   "metadata": {},
   "outputs": [
    {
     "name": "stdout",
     "output_type": "stream",
     "text": []
    }
   ],
   "source": [
    "(= (color) green)\n",
    "(= (color) yellow)\n",
    "(= (color) red)\n",
    "!(match &self (= (color) $x) $x)"
   ]
  },
  {
   "cell_type": "code",
   "execution_count": 14,
   "metadata": {},
   "outputs": [
    {
     "name": "stdout",
     "output_type": "stream",
     "text": []
    }
   ],
   "source": [
    "!(color)"
   ]
  },
  {
   "cell_type": "markdown",
   "metadata": {},
   "source": [
    "## Extended Example"
   ]
  },
  {
   "cell_type": "code",
   "execution_count": 16,
   "metadata": {},
   "outputs": [
    {
     "name": "stdout",
     "output_type": "stream",
     "text": []
    }
   ],
   "source": [
    ";;;;;;;;;;;;;;;;;;;;;;;;;;;;;;;;;;;;;;;;;;;;;;;;;;;;;;;\n",
    ";;;;;;;;;;;;;;;;;;;;;;;;;;;;;;;;;;;;;;;;;;;;;;;;;;;;;;;\n",
    "; Extended example\$n",
    ";;;;;;;;;;;;;;;;;;;;;;;;;;;;;;;;;;;;;;;;;;;;;;;;;;;;;;;\n",
    "; Some rules\$n",
    "(= (ift T $then) $then)\n",
    "(= (And T T) T)\n",
    "(= (make $x) (ift (makes $y $x) (start $y)))\n",
    "(= (make $x) (ift (And (prevents (making $y) (making $x))\n",
    "                       (makes $z $y)) (stop $z)))\n",
    "\n",
    "; Add facts to knowledge base\$n",
    "(= (prevents (making (air dry)) (making (air wet))) T)\n",
    "(= (prevents (making (air wet)) (making (air dry))) T)\n",
    "(= (makes humidifier (air wet)) T)\n",
    "(= (makes kettle (air wet)) T)\n",
    "(= (makes ventilation (air dry)) T)\n",
    "(= (is (air dry)) (make (air wet)))\n",
    "(= (is (air wet)) (make (air dry)))\n",
    "\n",
    "; the results are not sequential in sense that their order is arbitrary\$n",
    "!(is (air dry))\n"
   ]
  },
  {
   "cell_type": "code",
   "execution_count": 10,
   "metadata": {},
   "outputs": [
    {
     "name": "stdout",
     "output_type": "stream",
     "text": []
    }
   ],
   "source": [
    "!(is (air wet))"
   ]
  },
  {
   "cell_type": "markdown",
   "metadata": {},
   "source": [
    "# A Quick Introduction to MeTTa\$n",
    "\n",
    "### Function Definitions\$n",
    "\n",
    "Let's define our first MeTTa function.  The general syntax of a function definition is:\n",
    "\n",
    "```metta\$n",
    "(= (FUNCTION-NAME PARAMETER1 PARAMETER2 ...)\n",
    "    BODY))\n",
    "```\n",
    "\n",
    "Note carefully the parentheses, which are part of the syntax of all MeTTa programs.  The symbols <font color='green'><tt>define</tt></font> and <font color='green'><tt>lambda</tt></font> are special symbols used in defining functions.  The other symbols written in UPPERCASE represent parts of the definition that get filled in according to the specific details of the function being defined.  For example, let's define a function for squaring numbers, which we'll call <tt>square</tt>.  This function will take a single number as input, compute its square by multiplying the input with itself, and then return the answer.  The full definition is shown below.  You'll notice that MeTTa uses the symbol <tt>\\*</tt> to represent the multiplication operator, and that the operator goes first in an expression &mdash; this is known as <i>prefix</i> notation.  Comparing the definition to the template above, you can see that FUNCTION-NAME is the symbol <tt>square</tt>, PARAMETER1 is the symbol <tt>$n</tt>, there are no other parameters, and the function's BODY expression is <tt>(* $n $n)</tt>.  Furthermore, there's nothing special about the symbol <tt>$n</tt>.  We could have chosen any other name for our parameter."
   ]
  },
  {
   "cell_type": "code",
   "execution_count": 11,
   "metadata": {},
   "outputs": [
    {
     "name": "stdout",
     "output_type": "stream",
     "text": []
    }
   ],
   "source": [
    "  (= (square $n)\n",
    "    (* $n $n))"
   ]
  },
  {
   "cell_type": "markdown",
   "metadata": {},
   "source": [
    "Let's test this function on a few numbers, to see it in action.  To call a MeTTa function on some input, you write the name of the function first, followed by the input values separated by spaces, and surround everything with a single set of parentheses &mdash; which are required! &mdash; like this:"
   ]
  },
  {
   "cell_type": "code",
   "execution_count": 12,
   "metadata": {},
   "outputs": [
    {
     "name": "stdout",
     "output_type": "stream",
     "text": []
    }
   ],
   "source": [
    "(square 3)"
   ]
  },
  {
   "cell_type": "code",
   "execution_count": 13,
   "metadata": {},
   "outputs": [
    {
     "name": "stdout",
     "output_type": "stream",
     "text": []
    }
   ],
   "source": [
    "(square 5)"
   ]
  },
  {
   "cell_type": "code",
   "execution_count": 14,
   "metadata": {},
   "outputs": [
    {
     "name": "stdout",
     "output_type": "stream",
     "text": []
    }
   ],
   "source": [
    "(+ 3 4)"
   ]
  },
  {
   "cell_type": "markdown",
   "metadata": {},
   "source": [
    "For an example of a more complex function definition, which will illustrate the idea of nested MeTTa expressions, let's use the good old quadratic formula from your high school math class:\n",
    "\n",
    "$\\dfrac{-b \\pm \\sqrt{b^2 - 4ac}}{2a}$\$n",
    "\n",
    "How would we write this using MeTTa syntax?  Let's take it one piece at a time.  As we've already seen, we could write $b^2$ as either <tt>(\\* b b)</tt> or <tt>(square b)</tt>, since we just defined the <tt>square</tt> function. Let's go with <tt>(square b)</tt>, just for fun.  The multiplication expression $4ac$ can be written as <tt>(\\* 4 a c)</tt>.  To translate $b^2 - 4ac$ into MeTTa syntax, we combine <tt>(square b)</tt> and <tt>(* 4 a c)</tt> into a bigger expression using an additional set of parentheses, with the <tt>-</tt> operator in front:\n",
    "\n",
    "<pre>\n",
    "(- (square b) (* 4 a c))\n",
    "</pre>\n",
    "\n",
    "What about the square root sign in the formula?  In MeTTa, the square root function is called <tt>sqrt</tt>, so we just surround the above expression with a call to <tt>sqrt</tt>, using another set of parentheses, like this:\n",
    "\n",
    "<pre>\n",
    "(sqrt (- (square b) (* 4 a c)))\n",
    "</pre>\n",
    "\n",
    "The negation $-b$ can be written as <tt>(- b)</tt>, with a space between <tt>-</tt> and <tt>b</tt>.  What about the $\\pm$ sign?  This is mathematical shorthand that just means \"either $+$ or $-$ can be used here\".  In general, the formula will produce two different values (also called \"roots\"), depending on the choice of $+$ or $-$.  If we choose $+$, our expression becomes:\n",
    "\n",
    "<pre>\n",
    "(+ (- b) (sqrt (- (square b) (* 4 a c))))\n",
    "</pre>\n",
    "\n",
    "Note carefully how all of the parentheses match up.  Finally, we need to divide this expression by $2a$, using MeTTa's division operator <tt>/</tt>.  We write the operator first, followed by the above expression, followed by the expression <tt>(* 2 a)</tt>, with everything enclosed by an additional set of parentheses:\n",
    "\n",
    "<pre>\n",
    "(/ (+ (- b) (sqrt (- (square b) (* 4 a c)))) (* 2 a))\n",
    "</pre>\n",
    "\n",
    "This is becoming hard to read, so let's rewrite the expression using two lines to show the numerator and denominator more clearly:\n",
    "\n",
    "<pre>\n",
    "(/ (+ (- b) (sqrt (- (square b) (* 4 a c))))\n",
    "   (* 2 a))\n",
    "</pre>\n",
    "\n",
    "Fortunately, MeTTa doesn't care how many lines we use to write an expression, as long as the parentheses match up correctly.  We could just as well have written it like this:\n",
    "\n",
    "<pre>\n",
    "(/ (+ (- b)\n",
    "      (sqrt (- (square b)\n",
    "               (* 4 a c))))\n",
    "   (* 2 a))\n",
    "</pre>\n",
    "\n",
    "Now we are finally ready to define a new function called <tt>quadratic-root1</tt>, which will take three numbers as input (let's call them <i>a</i>, <i>b</i>, and <i>c</i>), and compute the first quadratic root, using $+$ in place of $\\pm$:"
   ]
  },
  {
   "cell_type": "code",
   "execution_count": 15,
   "metadata": {},
   "outputs": [
    {
     "name": "stdout",
     "output_type": "stream",
     "text": []
    }
   ],
   "source": [
    "(= (quadratic-root1\$n",
    "  $a b c)\n",
    "    (/ (+ (- b) (sqrt (- (square b) (* 4 a c))))\n",
    "       (* 2 a))))"
   ]
  },
  {
   "cell_type": "code",
   "execution_count": 16,
   "metadata": {},
   "outputs": [
    {
     "name": "stdout",
     "output_type": "stream",
     "text": []
    }
   ],
   "source": [
    "(quadratic-root1 1 4 3)"
   ]
  },
  {
   "cell_type": "code",
   "execution_count": 17,
   "metadata": {},
   "outputs": [
    {
     "name": "stdout",
     "output_type": "stream",
     "text": []
    }
   ],
   "source": [
    "(quadratic-root1 2 -5 3)"
   ]
  },
  {
   "cell_type": "markdown",
   "metadata": {},
   "source": [
    "### Conditional Expressions\$n",
    "\n",
    "Conditional expressions are used in MeTTa for making decisions, similar to if-statements in other languages.  Here is the general syntax:\n",
    "\n",
    "```metta\$n",
    "(case\$n",
    "  (CONDITION CONSEQUENT)\n",
    "  (%void%  ALTERNATIVE))\n",
    "```\n",
    "\n",
    "The special keywords <font color='green'><tt>cond</tt></font> and <font color='green'><tt>else</tt></font> are required, and the UPPERCASE words stand for subexpressions that can be arbitrarily complicated.  The way a <tt>cond</tt> works is this: the CONDITION subexpression gets evaluated first.  If the condition is true, then the CONSEQUENT subexpression gets evaluated and the ALTERNATIVE subexpression is ignored.  If the condition is false, the opposite happens: the CONSEQUENT subexpression is ignored and the ALTERNATIVE subexpression gets evaluated instead.  <tt>Cond</tt> expressions are often used in function definitions to decide what to do in response to the input.\n",
    "\n",
    "As an example, suppose we wish to define a function called <tt>divide</tt> that acts like ordinary division, except that it checks to make sure the denominator is not zero.  If it does equal zero, then 0 is returned as the result instead of generating an error.  The definition is shown below.  In this case, the CONDITION subexpression is <tt>(= denom 0)</tt>, the CONSEQUENT subexpression is just <tt>0</tt> by itself, and the ALTERNATIVE subexpression is <tt>(/ numer denom)</tt>."
   ]
  },
  {
   "cell_type": "code",
   "execution_count": 18,
   "metadata": {},
   "outputs": [
    {
     "name": "stdout",
     "output_type": "stream",
     "text": []
    }
   ],
   "source": [
    "(= (divide\$n",
    "  $numer denom)\n",
    "    (case\$n",
    "      ((= denom 0) 0)\n",
    "      (%void%  (/ numer denom)))))"
   ]
  },
  {
   "cell_type": "code",
   "execution_count": 19,
   "metadata": {},
   "outputs": [
    {
     "name": "stdout",
     "output_type": "stream",
     "text": []
    }
   ],
   "source": [
    "(divide 3 0)"
   ]
  },
  {
   "cell_type": "code",
   "execution_count": 20,
   "metadata": {},
   "outputs": [
    {
     "name": "stdout",
     "output_type": "stream",
     "text": []
    }
   ],
   "source": [
    "(divide 10 2)"
   ]
  },
  {
   "cell_type": "markdown",
   "metadata": {},
   "source": [
    "In general, the CONDITION subexpression of a <tt>cond</tt> should evaluate to <i>true</i> or <i>false</i> (that is, it should be a <i>boolean</i> expression).  In MeTTa, the boolean values <i>true</i> and <i>false</i> are written as <tt>#t</tt> and <tt>#f</tt>, respectively.  Furthermore, the usual boolean operators are available for comparing numbers: <tt>=</tt>, <tt>&gt;</tt>, <tt>&gt;=</tt>, <tt>&lt;</tt>, <tt>&lt;=</tt>.  The <tt>not</tt> function is used for negation.  Here are some examples:"
   ]
  },
  {
   "cell_type": "code",
   "execution_count": 21,
   "metadata": {},
   "outputs": [
    {
     "name": "stdout",
     "output_type": "stream",
     "text": []
    }
   ],
   "source": [
    "(= 2 3)"
   ]
  },
  {
   "cell_type": "code",
   "execution_count": 22,
   "metadata": {},
   "outputs": [
    {
     "name": "stdout",
     "output_type": "stream",
     "text": []
    }
   ],
   "source": [
    "(< 2 3)"
   ]
  },
  {
   "cell_type": "code",
   "execution_count": 23,
   "metadata": {},
   "outputs": [
    {
     "name": "stdout",
     "output_type": "stream",
     "text": []
    }
   ],
   "source": [
    "(= (+ 2 2) 5)"
   ]
  },
  {
   "cell_type": "code",
   "execution_count": 24,
   "metadata": {},
   "outputs": [
    {
     "name": "stdout",
     "output_type": "stream",
     "text": []
    }
   ],
   "source": [
    "(not (= (+ 2 2) 5))"
   ]
  },
  {
   "cell_type": "markdown",
   "metadata": {},
   "source": [
    "### Symbolic Data\$n",
    "\n",
    "In addition to numerical data, MeTTa programs often process <i>symbols</i> or <i>lists</i> of symbols.  Symbolic data must always be <i>quoted</i>, otherwise MeTTa will probably think that you're referring to functions.  For example, as we've seen, if you write <tt>(square 3)</tt>, MeTTa will think you mean \"call the <tt>square</tt> function on the number 3 and return the result\".  But if you write <tt>(quote (square 3))</tt> instead, MeTTa will treat <tt>(square 3)</tt> as a literal piece of data, and will not evaluate it."
   ]
  },
  {
   "cell_type": "code",
   "execution_count": 25,
   "metadata": {},
   "outputs": [
    {
     "name": "stdout",
     "output_type": "stream",
     "text": []
    }
   ],
   "source": [
    "(quote (square 3))"
   ]
  },
  {
   "cell_type": "markdown",
   "metadata": {},
   "source": [
    "The same thing happens if we quote the expressions <tt>(+ 3 4)</tt> or <tt>(divide 10 2)</tt>.  Instead of executing them as function calls, MeTTa will simply treat them as \"inert\" lists, each one consisting of a symbol followed by two numbers."
   ]
  },
  {
   "cell_type": "code",
   "execution_count": 26,
   "metadata": {},
   "outputs": [
    {
     "name": "stdout",
     "output_type": "stream",
     "text": []
    }
   ],
   "source": [
    "(quote (+ 3 4))"
   ]
  },
  {
   "cell_type": "code",
   "execution_count": 27,
   "metadata": {},
   "outputs": [
    {
     "name": "stdout",
     "output_type": "stream",
     "text": []
    }
   ],
   "source": [
    "(quote (divide 10 2))"
   ]
  },
  {
   "cell_type": "markdown",
   "metadata": {},
   "source": [
    "Quotation is a fundamental concept in MeTTa, and is used so much that it has its own abbreviation:\n",
    "\n",
    "<pre>\n",
    "(quote <i>expression</i>)\n",
    "</pre>\n",
    "\n",
    "can be shortened to just\$n",
    "\n",
    "<pre>\n",
    "'<i>expression</i>\n",
    "</pre>\n",
    "\n",
    "using a single apostrophe, where <i>expression</i> stands for any arbitrary MeTTa expression.  For instance, the previous two examples could be rewritten as:"
   ]
  },
  {
   "cell_type": "code",
   "execution_count": 28,
   "metadata": {},
   "outputs": [
    {
     "name": "stdout",
     "output_type": "stream",
     "text": []
    }
   ],
   "source": [
    "(+ 3 4)"
   ]
  },
  {
   "cell_type": "code",
   "execution_count": 29,
   "metadata": {},
   "outputs": [
    {
     "name": "stdout",
     "output_type": "stream",
     "text": []
    }
   ],
   "source": [
    "(divide 10 2)"
   ]
  },
  {
   "cell_type": "markdown",
   "metadata": {},
   "source": [
    "Note that quotation is very different from the concept of a string in other programming languages.  In MeTTa, when you quote something with an apostrophe, you always use just a <i>single</i> apostrophe in front of an expression, even if the expression itself is a long list containing many symbols or other subexpressions.  As long as the list is properly parenthesized, the apostrophe will apply to the entire list.  For example:"
   ]
  },
  {
   "cell_type": "code",
   "execution_count": 30,
   "metadata": {},
   "outputs": [
    {
     "name": "stdout",
     "output_type": "stream",
     "text": []
    }
   ],
   "source": [
    "(= (sentence (Sam loves green eggs and ham))"
   ]
  },
  {
   "cell_type": "markdown",
   "metadata": {},
   "source": [
    "Here we are defining <tt>sentence</tt> to be a <i>list</i> containing six symbols, rather than a function.  If we accidentally left off the quote mark, MeTTa would think we were trying to apply the <tt>Sam</tt> function to the input values <tt>loves</tt>, <tt>green</tt>, <tt>eggs</tt>, etc., which makes no sense and would generate an error.\n",
    "\n",
    "What sort of things can we do with a list?  The three most basic list operations in MeTTa are <tt>car</tt>, <tt>cdr</tt>, and <tt>cons</tt>.  <tt>Car</tt> returns the first element of a list.  <tt>Cdr</tt> (pronounced COULD-er) returns the list with the first element <i>removed</i>, and <tt>cons</tt> returns a new list with a new element added to the front.  However, in all three cases, the original list is unaffected.  Here are some examples:"
   ]
  },
  {
   "cell_type": "code",
   "execution_count": 31,
   "metadata": {},
   "outputs": [
    {
     "name": "stdout",
     "output_type": "stream",
     "text": []
    }
   ],
   "source": [
    "sentence"
   ]
  },
  {
   "cell_type": "code",
   "execution_count": 32,
   "metadata": {},
   "outputs": [
    {
     "name": "stdout",
     "output_type": "stream",
     "text": []
    }
   ],
   "source": [
    "(car sentence)"
   ]
  },
  {
   "cell_type": "code",
   "execution_count": 33,
   "metadata": {},
   "outputs": [
    {
     "name": "stdout",
     "output_type": "stream",
     "text": []
    }
   ],
   "source": [
    "(cdr sentence)"
   ]
  },
  {
   "cell_type": "code",
   "execution_count": 34,
   "metadata": {},
   "outputs": [
    {
     "name": "stdout",
     "output_type": "stream",
     "text": []
    }
   ],
   "source": [
    "(cons 'Big sentence)"
   ]
  },
  {
   "cell_type": "code",
   "execution_count": 35,
   "metadata": {},
   "outputs": [
    {
     "name": "stdout",
     "output_type": "stream",
     "text": []
    }
   ],
   "source": [
    "sentence"
   ]
  },
  {
   "cell_type": "code",
   "execution_count": 36,
   "metadata": {},
   "outputs": [
    {
     "name": "stdout",
     "output_type": "stream",
     "text": []
    }
   ],
   "source": [
    "(car (cdr sentence))"
   ]
  },
  {
   "cell_type": "code",
   "execution_count": 37,
   "metadata": {},
   "outputs": [
    {
     "name": "stdout",
     "output_type": "stream",
     "text": []
    }
   ],
   "source": [
    "(cdr (cdr sentence))"
   ]
  },
  {
   "cell_type": "code",
   "execution_count": 38,
   "metadata": {},
   "outputs": [
    {
     "name": "stdout",
     "output_type": "stream",
     "text": []
    }
   ],
   "source": [
    "(car (cdr (cdr sentence)))"
   ]
  },
  {
   "cell_type": "code",
   "execution_count": 39,
   "metadata": {},
   "outputs": [
    {
     "name": "stdout",
     "output_type": "stream",
     "text": []
    }
   ],
   "source": [
    "(cons 'Sue (cdr sentence))"
   ]
  },
  {
   "cell_type": "code",
   "execution_count": 40,
   "metadata": {},
   "outputs": [
    {
     "name": "stdout",
     "output_type": "stream",
     "text": []
    }
   ],
   "source": [
    "(cons 'blue (cdr (cdr (cdr sentence))))"
   ]
  },
  {
   "cell_type": "code",
   "execution_count": 41,
   "metadata": {},
   "outputs": [
    {
     "name": "stdout",
     "output_type": "stream",
     "text": []
    }
   ],
   "source": [
    "sentence"
   ]
  },
  {
   "cell_type": "markdown",
   "metadata": {},
   "source": [
    "You can use the <tt>equal?</tt> function to compare two pieces of symbolic data for equality.  By the way, there's nothing special about the <tt>?</tt> character in the function name.  As far as MeTTa is concerned, it is just another character.  However, by convention the names of boolean functions often end in a question mark as a visual reminder that the function returns true or false.  Here are some examples of comparing symbolic data (warning: the last few are a little tricky):"
   ]
  },
  {
   "cell_type": "code",
   "execution_count": 42,
   "metadata": {},
   "outputs": [
    {
     "name": "stdout",
     "output_type": "stream",
     "text": []
    }
   ],
   "source": [
    "(equal? 'green 'eggs)"
   ]
  },
  {
   "cell_type": "code",
   "execution_count": 43,
   "metadata": {},
   "outputs": [
    {
     "name": "stdout",
     "output_type": "stream",
     "text": []
    }
   ],
   "source": [
    "(equal? 'green 'green)"
   ]
  },
  {
   "cell_type": "code",
   "execution_count": 44,
   "metadata": {},
   "outputs": [
    {
     "name": "stdout",
     "output_type": "stream",
     "text": []
    }
   ],
   "source": [
    "(equal? (green eggs) (green eggs))"
   ]
  },
  {
   "cell_type": "code",
   "execution_count": 45,
   "metadata": {},
   "outputs": [
    {
     "name": "stdout",
     "output_type": "stream",
     "text": []
    }
   ],
   "source": [
    "(equal? (green eggs and ham) (green eggs and spam))"
   ]
  },
  {
   "cell_type": "code",
   "execution_count": 46,
   "metadata": {},
   "outputs": [
    {
     "name": "stdout",
     "output_type": "stream",
     "text": []
    }
   ],
   "source": [
    "(equal? (car sentence) 'Sam)"
   ]
  },
  {
   "cell_type": "code",
   "execution_count": 47,
   "metadata": {},
   "outputs": [
    {
     "name": "stdout",
     "output_type": "stream",
     "text": []
    }
   ],
   "source": [
    "(equal? (car sentence) (car sentence))"
   ]
  },
  {
   "cell_type": "code",
   "execution_count": 48,
   "metadata": {},
   "outputs": [
    {
     "name": "stdout",
     "output_type": "stream",
     "text": []
    }
   ],
   "source": [
    "(equal? 'sentence sentence)"
   ]
  },
  {
   "cell_type": "code",
   "execution_count": 49,
   "metadata": {},
   "outputs": [
    {
     "name": "stdout",
     "output_type": "stream",
     "text": []
    }
   ],
   "source": [
    "(equal? 'sentence (quote sentence))"
   ]
  },
  {
   "cell_type": "code",
   "execution_count": 50,
   "metadata": {},
   "outputs": [
    {
     "name": "stdout",
     "output_type": "stream",
     "text": []
    }
   ],
   "source": [
    "(equal? 'sentence (quote sentence))"
   ]
  },
  {
   "cell_type": "markdown",
   "metadata": {},
   "source": [
    "Just so you know, there is also a \"special purpose\" version of <tt>equal?</tt> that you may occasionally encounter, called <tt>eq?</tt>, that is only used for comparing symbols.  __You should never use <tt>eq?</tt> to compare lists to lists, or numbers to numbers__, because the results may be unreliable (see the examples below).  In fact, to avoid potential confusion, it may be best to just forget about <tt>eq?</tt> entirely and always use <tt>equal?</tt> to compare symbolic data."
   ]
  },
  {
   "cell_type": "code",
   "execution_count": 51,
   "metadata": {},
   "outputs": [
    {
     "name": "stdout",
     "output_type": "stream",
     "text": []
    }
   ],
   "source": [
    "(eq? 'green 'eggs)"
   ]
  },
  {
   "cell_type": "code",
   "execution_count": 52,
   "metadata": {},
   "outputs": [
    {
     "name": "stdout",
     "output_type": "stream",
     "text": []
    }
   ],
   "source": [
    "(eq? 'green 'green)"
   ]
  },
  {
   "cell_type": "code",
   "execution_count": 53,
   "metadata": {},
   "outputs": [
    {
     "name": "stdout",
     "output_type": "stream",
     "text": []
    }
   ],
   "source": [
    "(eq? (green eggs) (green eggs))"
   ]
  },
  {
   "cell_type": "code",
   "execution_count": 54,
   "metadata": {},
   "outputs": [
    {
     "name": "stdout",
     "output_type": "stream",
     "text": []
    }
   ],
   "source": [
    "(= (/ 3 2) 1.5)"
   ]
  },
  {
   "cell_type": "code",
   "execution_count": 55,
   "metadata": {},
   "outputs": [
    {
     "name": "stdout",
     "output_type": "stream",
     "text": []
    }
   ],
   "source": [
    "(eq? (/ 3 2) 1.5)"
   ]
  },
  {
   "cell_type": "markdown",
   "metadata": {},
   "source": [
    "Finally, the special value <tt>()</tt> is called the <i>empty list</i> or <i>null list</i>.  This is simply a list that contains no elements.  The function <tt>null?</tt> can be used to check if a list is empty.  Remember, however, that you need to quote <tt>()</tt> when referring to it directly, since it is a literal piece of data.  Here are some examples:"
   ]
  },
  {
   "cell_type": "code",
   "execution_count": 56,
   "metadata": {},
   "outputs": [
    {
     "name": "stdout",
     "output_type": "stream",
     "text": []
    }
   ],
   "source": [
    "()"
   ]
  },
  {
   "cell_type": "code",
   "execution_count": 57,
   "metadata": {},
   "outputs": [
    {
     "name": "stdout",
     "output_type": "stream",
     "text": []
    }
   ],
   "source": [
    "(cons 'eggs ())"
   ]
  },
  {
   "cell_type": "code",
   "execution_count": 58,
   "metadata": {},
   "outputs": [
    {
     "name": "stdout",
     "output_type": "stream",
     "text": []
    }
   ],
   "source": [
    "(cons 'green (cons 'eggs ()))"
   ]
  },
  {
   "cell_type": "code",
   "execution_count": 59,
   "metadata": {},
   "outputs": [
    {
     "name": "stdout",
     "output_type": "stream",
     "text": []
    }
   ],
   "source": [
    "(cdr (cdr (green eggs)))"
   ]
  },
  {
   "cell_type": "code",
   "execution_count": 60,
   "metadata": {},
   "outputs": [
    {
     "name": "stdout",
     "output_type": "stream",
     "text": []
    }
   ],
   "source": [
    "(null? ())"
   ]
  },
  {
   "cell_type": "code",
   "execution_count": 61,
   "metadata": {},
   "outputs": [
    {
     "name": "stdout",
     "output_type": "stream",
     "text": []
    }
   ],
   "source": [
    "(null? (cdr (cdr (green eggs))))"
   ]
  },
  {
   "cell_type": "code",
   "execution_count": 62,
   "metadata": {},
   "outputs": [
    {
     "name": "stdout",
     "output_type": "stream",
     "text": []
    }
   ],
   "source": [
    "(case\$n",
    " ((null? sentence) 'yes)\n",
    " (%void%  'no))"
   ]
  },
  {
   "cell_type": "markdown",
   "metadata": {},
   "source": [
    "### Conditional Expressions, Revisited\$n",
    "\n",
    "Let's return to the syntax given earlier for <tt>cond</tt> expressions:\n",
    "\n",
    "```metta\$n",
    "(case\$n",
    "  (CONDITION CONSEQUENT)\n",
    "  (%void%  ALTERNATIVE))\n",
    "```\n",
    "\n",
    "This is fine when you just need to ask a single question &mdash; represented by the CONDITION subexpression &mdash; and then return either the CONSEQUENT or ALTERNATIVE value, depending on the answer.  But what if you need to ask several questions?  As it turns out, <tt>cond</tt> expressions can include as many <i>clauses</i> of the form <tt>(CONDITION CONSEQUENT)</tt> as you like.  A more accurate description of the syntax would be:\n",
    "\n",
    "```metta\$n",
    "(case\$n",
    "  (CONDITION1 CONSEQUENT1)\n",
    "  (CONDITION2 CONSEQUENT2)\n",
    "  (CONDITION3 CONSEQUENT3)\n",
    "  ...\n",
    "  (%void%  ALTERNATIVE))\n",
    "```\n",
    "\n",
    "The CONDITION subexpressions are evaluated <i>in order</i> until one is found to be true, at which point the  CONSEQUENT subexpression associated with the true condition is evaluated.  The resulting value becomes the value returned by the whole <tt>cond</tt> expression, and any remaining clauses are ignored.  Only if <i>all</i> of the CONDITION subexpressions turn out to be false does ALTERNATIVE get evaluated and its value returned.\n",
    "\n",
    "For example, here is a function that takes a \"sentence\" as input, represented as a list of symbols called <tt>wordlist</tt>, and returns a short message describing the number of words in the sentence.  If the sentence is empty, the function outputs the list <tt>(no words)</tt>.  If the sentence contains exactly one word, the output is <tt>(just one word)</tt>.  With two words, the output is <tt>(two words)</tt>.  Otherwise the output is <tt>(more than two words)</tt>.  Although this isn't a particularly useful function, it illustrates the use of a multi-branch conditional, and shows one way to determine the number of elements in a list (at least up to a point) using <tt>null?</tt> in conjunction with <tt>cdr</tt>."
   ]
  },
  {
   "cell_type": "code",
   "execution_count": 63,
   "metadata": {},
   "outputs": [
    {
     "name": "stdout",
     "output_type": "stream",
     "text": []
    }
   ],
   "source": [
    "(= (count-words\$n",
    "  $wordlist)\n",
    "    (case\$n",
    "     ((null? wordlist) (no words))\n",
    "     ((null? (cdr wordlist)) (just one word))\n",
    "     ((null? (cdr (cdr wordlist))) (two words))\n",
    "     (%void%  (more than two words)))))"
   ]
  },
  {
   "cell_type": "code",
   "execution_count": 64,
   "metadata": {},
   "outputs": [
    {
     "name": "stdout",
     "output_type": "stream",
     "text": []
    }
   ],
   "source": [
    "(count-words ())"
   ]
  },
  {
   "cell_type": "code",
   "execution_count": 65,
   "metadata": {},
   "outputs": [
    {
     "name": "stdout",
     "output_type": "stream",
     "text": []
    }
   ],
   "source": [
    "(count-words (spam))"
   ]
  },
  {
   "cell_type": "code",
   "execution_count": 66,
   "metadata": {},
   "outputs": [
    {
     "name": "stdout",
     "output_type": "stream",
     "text": []
    }
   ],
   "source": [
    "(count-words (green eggs))"
   ]
  },
  {
   "cell_type": "code",
   "execution_count": 67,
   "metadata": {},
   "outputs": [
    {
     "name": "stdout",
     "output_type": "stream",
     "text": []
    }
   ],
   "source": [
    "(count-words (green eggs and ham))"
   ]
  },
  {
   "cell_type": "code",
   "execution_count": 68,
   "metadata": {},
   "outputs": [
    {
     "name": "stdout",
     "output_type": "stream",
     "text": []
    }
   ],
   "source": [
    "sentence"
   ]
  },
  {
   "cell_type": "code",
   "execution_count": 69,
   "metadata": {},
   "outputs": [
    {
     "name": "stdout",
     "output_type": "stream",
     "text": []
    }
   ],
   "source": [
    "(count-words sentence)"
   ]
  },
  {
   "cell_type": "code",
   "execution_count": null,
   "metadata": {},
   "outputs": [],
   "source": []
  },
  {
   "cell_type": "code",
   "execution_count": null,
   "metadata": {},
   "outputs": [],
   "source": []
  }
 ],
 "metadata": {
  "celltoolbar": "Raw Cell Format",
  "kernelspec": {
   "display_name": "MeTTa VSpace Kernel",
   "language": "metta",
   "name": "metta_jupyter_kernel"
  },
  "language_info": {
   "codemirror_mode": "scheme",
   "file_extension": ".metta",
   "mimetype": "text/plain",
   "name": "MeTTa"
  },
  "toc": {
   "base_numbering": 1,
   "nav_menu": {},
   "number_sections": true,
   "sideBar": true,
   "skip_h1_title": false,
   "title_cell": "Table of Contents",
   "title_sidebar": "Contents",
   "toc_cell": false,
   "toc_position": {},
   "toc_section_display": true,
   "toc_window_display": false
  },
  "varInspector": {
   "cols": {
    "lenName": 16,
    "lenType": 16,
    "lenVar": 40
   },
   "kernels_config": {
    "python": {
     "delete_cmd_postfix": "",
     "delete_cmd_prefix": "del ",
     "library": "var_list.py",
     "varRefreshCmd": "print(var_dic_list())"
    },
    "r": {
     "delete_cmd_postfix": ") ",
     "delete_cmd_prefix": "rm(",
     "library": "var_list.r",
     "varRefreshCmd": "cat(var_dic_list()) "
    }
   },
   "types_to_exclude": [
    "module",
    "function",
    "builtin_function_or_method",
    "instance",
    "_Feature"
   ],
   "window_display": false
  },
  "widgets": {
   "application/vnd.jupyter.widget-state+json": {
    "state": {},
    "version_major": 2,
    "version_minor": 0
   }
  }
 },
 "nbformat": 4,
 "nbformat_minor": 2
}
